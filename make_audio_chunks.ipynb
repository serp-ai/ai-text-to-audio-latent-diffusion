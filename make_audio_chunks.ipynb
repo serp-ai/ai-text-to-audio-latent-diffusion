{
 "cells": [
  {
   "cell_type": "code",
   "execution_count": null,
   "metadata": {},
   "outputs": [],
   "source": [
    "import os\n",
    "from pydub import AudioSegment\n",
    "\n",
    "def chunk_audio(input_folder, output_folder, chunk_size_samples, sr=24000, spacing=0.5, last_chunk_min_seconds=60, debug=True, errors_=None):\n",
    "    if not os.path.exists(output_folder):\n",
    "        os.makedirs(output_folder)\n",
    "    errors = []\n",
    "    for filename in os.listdir(input_folder):\n",
    "        try:\n",
    "            if not filename.endswith('.wav'):\n",
    "                continue\n",
    "            filepath = os.path.join(input_folder, filename)\n",
    "            if errors_ is not None:\n",
    "                if filepath not in errors_:\n",
    "                    continue\n",
    "            sound = AudioSegment.from_wav(filepath)\n",
    "            sound = sound.set_frame_rate(sr)\n",
    "            if debug:\n",
    "                print(f'Resampled {filepath} to {sr} Hz')\n",
    "            \n",
    "            samples = sound.get_array_of_samples()\n",
    "            n_samples = len(samples)\n",
    "            n_chunks = n_samples//chunk_size_samples + (n_samples % chunk_size_samples > 0)\n",
    "            start = 0\n",
    "            for i in range(n_chunks):\n",
    "                end = start + chunk_size_samples\n",
    "                if i == n_chunks - 1 and sound.duration_seconds < last_chunk_min_seconds:\n",
    "                    start = start + int( (last_chunk_min_seconds*sr - n_samples)/(n_chunks-1) )\n",
    "                    end = start + chunk_size_samples\n",
    "                if end > n_samples:\n",
    "                    end = n_samples\n",
    "                chunk = sound._spawn(samples[start:end])\n",
    "                output_filename = os.path.splitext(filename)[0] + f'_chunk{i}.wav'\n",
    "                output_filepath = os.path.join(output_folder, output_filename)\n",
    "                chunk.export(output_filepath, format='wav')\n",
    "                start = end - int(spacing*chunk_size_samples)\n",
    "        except Exception as e:\n",
    "            print(f'Error processing {filepath}: {e}')\n",
    "            errors.append(filepath)\n",
    "    return errors"
   ]
  },
  {
   "cell_type": "code",
   "execution_count": null,
   "metadata": {},
   "outputs": [],
   "source": [
    "input_folder = 'audio'\n",
    "output_folder = 'audio_chunks'\n",
    "chunk_size_samples = 4000000\n",
    "sr = 24000\n",
    "norm = False\n",
    "spacing = 0.1\n",
    "debug = True\n",
    "\n",
    "errors = chunk_audio(input_folder, output_folder, chunk_size_samples, sr=sr, norm=norm, spacing=spacing, debug=debug)"
   ]
  }
 ],
 "metadata": {
  "kernelspec": {
   "display_name": "Python 3",
   "language": "python",
   "name": "python3"
  },
  "language_info": {
   "name": "python",
   "version": "3.10.8 (tags/v3.10.8:aaaf517, Oct 11 2022, 16:50:30) [MSC v.1933 64 bit (AMD64)]"
  },
  "orig_nbformat": 4,
  "vscode": {
   "interpreter": {
    "hash": "0e022ae142024989f92e98d32365f88ae2215fe7b3636042713ef46624b031fa"
   }
  }
 },
 "nbformat": 4,
 "nbformat_minor": 2
}
